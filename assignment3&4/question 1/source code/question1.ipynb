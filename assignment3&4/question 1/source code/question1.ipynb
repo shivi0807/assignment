{
  "nbformat": 4,
  "nbformat_minor": 0,
  "metadata": {
    "colab": {
      "provenance": []
    },
    "kernelspec": {
      "name": "python3",
      "display_name": "Python 3"
    },
    "language_info": {
      "name": "python"
    }
  },
  "cells": [
    {
      "cell_type": "code",
      "execution_count": 27,
      "metadata": {
        "colab": {
          "base_uri": "https://localhost:8080/"
        },
        "id": "MNmr0Tmc8Izi",
        "outputId": "09d299dc-adf5-4b9d-dbcf-3850d6dfc012"
      },
      "outputs": [
        {
          "output_type": "stream",
          "name": "stdout",
          "text": [
            "{'success': True, 'code': 200, 'BIN': {'valid': True, 'number': 448590, 'length': 6, 'scheme': 'VISA', 'brand': 'VISA', 'type': 'CREDIT', 'level': 'PURCHASING WITH FLEET', 'currency': 'USD', 'issuer': {'name': 'JPMORGAN CHASE BANK, N.A.', 'website': 'http://www.jpmorganchase.com', 'phone': '1-212-270-6000'}, 'country': {'name': 'UNITED STATES', 'native': 'United States', 'flag': '??', 'numeric': '840', 'capital': 'Washington, D.C.', 'currency': 'USD', 'currency_symbol': '$', 'region': 'Americas', 'subregion': 'Northern America', 'idd': '1', 'alpha2': 'US', 'alpha3': 'USA', 'language': 'English', 'language_code': 'EN', 'latitude': 34.052571, 'longitude': -118.243907}}}\n"
          ]
        }
      ],
      "source": [
        "import requests\n",
        "\n",
        "url = \"https://bin-ip-checker.p.rapidapi.com/\"\n",
        "\n",
        "querystring = {\"bin\":\"448590\"}\n",
        "\n",
        "payload = { \"bin\": \"448590\" }\n",
        "headers = {\n",
        "\t\"content-type\": \"application/json\",\n",
        "\t\"X-RapidAPI-Key\": \"4bd97980dbmsh3f830bd1270735ep19b021jsn9d231c536690\",\n",
        "\t\"X-RapidAPI-Host\": \"bin-ip-checker.p.rapidapi.com\"\n",
        "}\n",
        "\n",
        "response = requests.post(url, json=payload, headers=headers, params=querystring)\n",
        "\n",
        "print(response.json())"
      ]
    },
    {
      "cell_type": "code",
      "source": [
        "pip install requests matplotlib\n"
      ],
      "metadata": {
        "colab": {
          "base_uri": "https://localhost:8080/"
        },
        "id": "9n_MAxiuj7kY",
        "outputId": "1d548bf6-a424-4b68-879f-78bb11ecb539"
      },
      "execution_count": 28,
      "outputs": [
        {
          "output_type": "stream",
          "name": "stdout",
          "text": [
            "Requirement already satisfied: requests in /usr/local/lib/python3.10/dist-packages (2.31.0)\n",
            "Requirement already satisfied: matplotlib in /usr/local/lib/python3.10/dist-packages (3.7.1)\n",
            "Requirement already satisfied: charset-normalizer<4,>=2 in /usr/local/lib/python3.10/dist-packages (from requests) (3.3.2)\n",
            "Requirement already satisfied: idna<4,>=2.5 in /usr/local/lib/python3.10/dist-packages (from requests) (3.6)\n",
            "Requirement already satisfied: urllib3<3,>=1.21.1 in /usr/local/lib/python3.10/dist-packages (from requests) (2.0.7)\n",
            "Requirement already satisfied: certifi>=2017.4.17 in /usr/local/lib/python3.10/dist-packages (from requests) (2024.2.2)\n",
            "Requirement already satisfied: contourpy>=1.0.1 in /usr/local/lib/python3.10/dist-packages (from matplotlib) (1.2.1)\n",
            "Requirement already satisfied: cycler>=0.10 in /usr/local/lib/python3.10/dist-packages (from matplotlib) (0.12.1)\n",
            "Requirement already satisfied: fonttools>=4.22.0 in /usr/local/lib/python3.10/dist-packages (from matplotlib) (4.51.0)\n",
            "Requirement already satisfied: kiwisolver>=1.0.1 in /usr/local/lib/python3.10/dist-packages (from matplotlib) (1.4.5)\n",
            "Requirement already satisfied: numpy>=1.20 in /usr/local/lib/python3.10/dist-packages (from matplotlib) (1.25.2)\n",
            "Requirement already satisfied: packaging>=20.0 in /usr/local/lib/python3.10/dist-packages (from matplotlib) (24.0)\n",
            "Requirement already satisfied: pillow>=6.2.0 in /usr/local/lib/python3.10/dist-packages (from matplotlib) (9.4.0)\n",
            "Requirement already satisfied: pyparsing>=2.3.1 in /usr/local/lib/python3.10/dist-packages (from matplotlib) (3.1.2)\n",
            "Requirement already satisfied: python-dateutil>=2.7 in /usr/local/lib/python3.10/dist-packages (from matplotlib) (2.8.2)\n",
            "Requirement already satisfied: six>=1.5 in /usr/local/lib/python3.10/dist-packages (from python-dateutil>=2.7->matplotlib) (1.16.0)\n"
          ]
        }
      ]
    },
    {
      "cell_type": "code",
      "source": [
        "import requests\n",
        "\n",
        "# Replace with your actual API key\n",
        "api_key = \"YOUR_RAPIDAPI_KEY\"\n",
        "\n",
        "# Sample JSON data (modify for your specific data source)\n",
        "data = {\n",
        "    \"country_name\": \"United States\",\n",
        "    \"city\": \"New York\",\n",
        "    \"latitude\": 40.7128,\n",
        "    \"longitude\": -74.0059,\n",
        "    \"currency\": \"USD\",\n",
        "    \"threat_score\": 20,  # Example threat score (adjust for your data)\n",
        "}\n",
        "\n",
        "\n",
        "def create_dashboard(data):\n",
        "    \"\"\"Parses JSON data and displays it in a user-friendly format.\n",
        "\n",
        "    Args:\n",
        "        data (dict): JSON data containing information to be displayed.\n",
        "\n",
        "    Returns:\n",
        "        str: A formatted string representing the dashboard content.\n",
        "    \"\"\"\n",
        "\n",
        "    # Extract key information\n",
        "    country = data.get(\"country_name\", \"N/A\")\n",
        "    city = data.get(\"city\", \"N/A\")\n",
        "    latitude = data.get(\"latitude\", \"N/A\")\n",
        "    longitude = data.get(\"longitude\", \"N/A\")\n",
        "    currency = data.get(\"currency\", \"N/A\")\n",
        "    threat_score = data.get(\"threat_score\", \"N/A\")\n",
        "\n",
        "    # Create title and separator\n",
        "    dashboard = f\"Location Information\\n\"\n",
        "    dashboard += \"-\" * 30 + \"\\n\"\n",
        "\n",
        "    # Add formatted data with descriptive labels\n",
        "    dashboard += f\"Country: {country}\\n\"\n",
        "    dashboard += f\"City: {city}\\n\"\n",
        "    dashboard += f\"Latitude: {latitude}\\n\"\n",
        "    dashboard += f\"Longitude: {longitude}\\n\"\n",
        "    dashboard += f\"Currency: {currency}\\n\"\n",
        "    dashboard += f\"Threat Score: {threat_score} (lower is better)\\n\"\n",
        "\n",
        "    # Optionally, add a chart representation of threat score (using external library)\n",
        "    # You'll need to install a charting library like matplotlib\n",
        "    # import matplotlib.pyplot as plt\n",
        "\n",
        "    # plt.figure(figsize=(5, 3))\n",
        "    # plt.bar([\"Threat Score\"], [threat_score])\n",
        "    # plt.title(\"Threat Level\")\n",
        "    # plt.gca().invert_yaxis()  # Higher values on bottom for visual clarity\n",
        "    # plt.tight_layout()\n",
        "\n",
        "    # Assuming you save the chart as an image file (e.g., threat_score.png)\n",
        "    # dashboard += f\"\\n[Image of Threat Score](threat_score.png)\"  # Placeholder for image\n",
        "\n",
        "    return dashboard\n",
        "\n",
        "\n",
        "# Display the dashboard\n",
        "print(create_dashboard(data))\n"
      ],
      "metadata": {
        "colab": {
          "base_uri": "https://localhost:8080/"
        },
        "id": "l9EfJvShj-xm",
        "outputId": "f136332f-eebe-4655-8231-bad55db062eb"
      },
      "execution_count": 33,
      "outputs": [
        {
          "output_type": "stream",
          "name": "stdout",
          "text": [
            "Location Information\n",
            "------------------------------\n",
            "Country: United States\n",
            "City: New York\n",
            "Latitude: 40.7128\n",
            "Longitude: -74.0059\n",
            "Currency: USD\n",
            "Threat Score: 20 (lower is better)\n",
            "\n"
          ]
        }
      ]
    },
    {
      "cell_type": "code",
      "source": [
        "import requests\n",
        "\n",
        "# Replace with your actual API key\n",
        "api_key = \"YOUR_RAPIDAPI_KEY\"\n",
        "\n",
        "# Sample JSON data (modify for your specific data source)\n",
        "data = {\n",
        "    \"country_name\": \"United States\",\n",
        "    \"city\": \"New York\",\n",
        "    \"latitude\": 40.7128,\n",
        "    \"longitude\": -74.0059,\n",
        "    \"currency\": \"USD\",\n",
        "    \"threat_score\": 20,  # Example threat score (adjust for your data)\n",
        "}\n",
        "\n",
        "\n",
        "def create_dashboard(data):\n",
        "    \"\"\"Parses JSON data and displays it in a user-friendly format.\n",
        "\n",
        "    Args:\n",
        "        data (dict): JSON data containing information to be displayed.\n",
        "\n",
        "    Returns:\n",
        "        str: A formatted string representing the dashboard content.\n",
        "    \"\"\"\n",
        "\n",
        "    # Extract key information\n",
        "    country = data.get(\"country_name\", \"N/A\")\n",
        "    city = data.get(\"city\", \"N/A\")\n",
        "    latitude = data.get(\"latitude\", \"N/A\")\n",
        "    longitude = data.get(\"longitude\", \"N/A\")\n",
        "    currency = data.get(\"currency\", \"N/A\")\n",
        "    threat_score = data.get(\"threat_score\", \"N/A\")\n",
        "\n",
        "    # Create title and separator\n",
        "    dashboard = f\"Location Information\\n\"\n",
        "    dashboard += \"-\" * 30 + \"\\n\"\n",
        "\n",
        "    # Add formatted data with descriptive labels\n",
        "    dashboard += f\"Country: {country}\\n\"\n",
        "    dashboard += f\"City: {city}\\n\"\n",
        "    dashboard += f\"Latitude: {latitude}\\n\"\n",
        "    dashboard += f\"Longitude: {longitude}\\n\"\n",
        "    dashboard += f\"Currency: {currency}\\n\"\n",
        "    dashboard += f\"Threat Score: {threat_score} (lower is better)\\n\"\n",
        "\n",
        "    # Optionally, add a chart representation of threat score (using external library)\n",
        "    # You'll need to install a charting library like matplotlib\n",
        "    # import matplotlib.pyplot as plt\n",
        "\n",
        "    # plt.figure(figsize=(5, 3))\n",
        "    # plt.bar([\"Threat Score\"], [threat_score])\n",
        "    # plt.title(\"Threat Level\")\n",
        "    # plt.gca().invert_yaxis()  # Higher values on bottom for visual clarity\n",
        "    # plt.tight_layout()\n",
        "\n",
        "    # Assuming you save the chart as an image file (e.g., threat_score.png)\n",
        "    # dashboard += f\"\\n[Image of Threat Score](threat_score.png)\"  # Placeholder for image\n",
        "\n",
        "    return dashboard\n",
        "\n",
        "\n",
        "# Display the dashboard\n",
        "print(create_dashboard(data))"
      ],
      "metadata": {
        "colab": {
          "base_uri": "https://localhost:8080/"
        },
        "id": "UYpgDI5_CAzM",
        "outputId": "22dee8cc-8d7c-497b-a877-0ed2a3276b08"
      },
      "execution_count": 34,
      "outputs": [
        {
          "output_type": "stream",
          "name": "stdout",
          "text": [
            "Location Information\n",
            "------------------------------\n",
            "Country: United States\n",
            "City: New York\n",
            "Latitude: 40.7128\n",
            "Longitude: -74.0059\n",
            "Currency: USD\n",
            "Threat Score: 20 (lower is better)\n",
            "\n"
          ]
        }
      ]
    },
    {
      "cell_type": "code",
      "source": [],
      "metadata": {
        "id": "ZdQu5RFTCF08"
      },
      "execution_count": null,
      "outputs": []
    }
  ]
}